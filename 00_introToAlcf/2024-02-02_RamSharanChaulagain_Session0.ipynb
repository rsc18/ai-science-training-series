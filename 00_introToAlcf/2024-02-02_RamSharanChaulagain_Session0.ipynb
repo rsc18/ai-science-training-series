{
 "cells": [
  {
   "cell_type": "code",
   "execution_count": 1,
   "id": "ca2324d1-0e2d-4ef1-aa29-581d746b9078",
   "metadata": {},
   "outputs": [],
   "source": [
    "import os"
   ]
  },
  {
   "cell_type": "code",
   "execution_count": 2,
   "id": "b116b62f-ca8e-4e4c-9bec-84506e21eefa",
   "metadata": {},
   "outputs": [
    {
     "name": "stdout",
     "output_type": "stream",
     "text": [
      "Testing ........\n"
     ]
    }
   ],
   "source": [
    "print(\"Testing ........\")"
   ]
  },
  {
   "cell_type": "code",
   "execution_count": null,
   "id": "f481ee7e-45e1-47ed-9133-9bd742152511",
   "metadata": {},
   "outputs": [],
   "source": []
  }
 ],
 "metadata": {
  "kernelspec": {
   "display_name": "Python 3 (ipykernel)",
   "language": "python",
   "name": "python3"
  },
  "language_info": {
   "codemirror_mode": {
    "name": "ipython",
    "version": 3
   },
   "file_extension": ".py",
   "mimetype": "text/x-python",
   "name": "python",
   "nbconvert_exporter": "python",
   "pygments_lexer": "ipython3",
   "version": "3.9.15"
  }
 },
 "nbformat": 4,
 "nbformat_minor": 5
}
